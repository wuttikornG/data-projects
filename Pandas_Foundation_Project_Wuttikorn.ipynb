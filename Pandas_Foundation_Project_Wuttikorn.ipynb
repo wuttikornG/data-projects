{
  "cells": [
    {
      "cell_type": "markdown",
      "metadata": {
        "id": "view-in-github",
        "colab_type": "text"
      },
      "source": [
        "<a href=\"https://colab.research.google.com/github/wuttikornG/data-projects/blob/main/Pandas_Foundation_Project_Wuttikorn.ipynb\" target=\"_parent\"><img src=\"https://colab.research.google.com/assets/colab-badge.svg\" alt=\"Open In Colab\"/></a>"
      ]
    },
    {
      "cell_type": "markdown",
      "source": [
        "# Project - Analyzing Sales Data\n",
        "\n",
        "**Date**: 14 August 2023\n",
        "\n",
        "**Author**: Wuttikorn Piyapinyowut (Group)\n",
        "\n",
        "**Course**: `Pandas Foundation`"
      ],
      "metadata": {
        "datalore": {
          "node_id": "uSqPNFdpiQa0Tu7GRo9d5Q",
          "type": "MD",
          "hide_input_from_viewers": false,
          "hide_output_from_viewers": false,
          "report_properties": {
            "rowId": "65pdkTg7QNprJSVTdmcRl5",
            "relativeY": 0
          }
        },
        "id": "fPmH4N2IvgA1"
      }
    },
    {
      "cell_type": "code",
      "source": [
        "# import data\n",
        "import pandas as pd\n",
        "df = pd.read_csv(\"sample-store.csv\")"
      ],
      "execution_count": null,
      "outputs": [],
      "metadata": {
        "datalore": {
          "node_id": "7iVWaNvzG5mVgNn7t1x7Re",
          "type": "CODE",
          "hide_input_from_viewers": false,
          "hide_output_from_viewers": false,
          "report_properties": {
            "rowId": "OaAJ22RFT11SaNsCKm7i68",
            "relativeY": 0
          }
        },
        "id": "xaoPSsHLvgA3"
      }
    },
    {
      "cell_type": "code",
      "source": [
        "# preview top 5 rows\n",
        "df.head()"
      ],
      "execution_count": null,
      "outputs": [
        {
          "data": {
            "text/html": [
              "<div>\n",
              "<style scoped>\n",
              "    .dataframe tbody tr th:only-of-type {\n",
              "        vertical-align: middle;\n",
              "    }\n",
              "\n",
              "    .dataframe tbody tr th {\n",
              "        vertical-align: top;\n",
              "    }\n",
              "\n",
              "    .dataframe thead th {\n",
              "        text-align: right;\n",
              "    }\n",
              "</style>\n",
              "<table border=\"1\" class=\"dataframe\">\n",
              "  <thead>\n",
              "    <tr style=\"text-align: right;\">\n",
              "      <th></th>\n",
              "      <th>Row ID</th>\n",
              "      <th>Order ID</th>\n",
              "      <th>Order Date</th>\n",
              "      <th>Ship Date</th>\n",
              "      <th>Ship Mode</th>\n",
              "      <th>Customer ID</th>\n",
              "      <th>Customer Name</th>\n",
              "      <th>Segment</th>\n",
              "      <th>Country/Region</th>\n",
              "      <th>City</th>\n",
              "      <th>...</th>\n",
              "      <th>Postal Code</th>\n",
              "      <th>Region</th>\n",
              "      <th>Product ID</th>\n",
              "      <th>Category</th>\n",
              "      <th>Sub-Category</th>\n",
              "      <th>Product Name</th>\n",
              "      <th>Sales</th>\n",
              "      <th>Quantity</th>\n",
              "      <th>Discount</th>\n",
              "      <th>Profit</th>\n",
              "    </tr>\n",
              "  </thead>\n",
              "  <tbody>\n",
              "    <tr>\n",
              "      <th>0</th>\n",
              "      <td>1</td>\n",
              "      <td>CA-2019-152156</td>\n",
              "      <td>11/8/2019</td>\n",
              "      <td>11/11/2019</td>\n",
              "      <td>Second Class</td>\n",
              "      <td>CG-12520</td>\n",
              "      <td>Claire Gute</td>\n",
              "      <td>Consumer</td>\n",
              "      <td>United States</td>\n",
              "      <td>Henderson</td>\n",
              "      <td>...</td>\n",
              "      <td>42420.0</td>\n",
              "      <td>South</td>\n",
              "      <td>FUR-BO-10001798</td>\n",
              "      <td>Furniture</td>\n",
              "      <td>Bookcases</td>\n",
              "      <td>Bush Somerset Collection Bookcase</td>\n",
              "      <td>261.9600</td>\n",
              "      <td>2</td>\n",
              "      <td>0.00</td>\n",
              "      <td>41.9136</td>\n",
              "    </tr>\n",
              "    <tr>\n",
              "      <th>1</th>\n",
              "      <td>2</td>\n",
              "      <td>CA-2019-152156</td>\n",
              "      <td>11/8/2019</td>\n",
              "      <td>11/11/2019</td>\n",
              "      <td>Second Class</td>\n",
              "      <td>CG-12520</td>\n",
              "      <td>Claire Gute</td>\n",
              "      <td>Consumer</td>\n",
              "      <td>United States</td>\n",
              "      <td>Henderson</td>\n",
              "      <td>...</td>\n",
              "      <td>42420.0</td>\n",
              "      <td>South</td>\n",
              "      <td>FUR-CH-10000454</td>\n",
              "      <td>Furniture</td>\n",
              "      <td>Chairs</td>\n",
              "      <td>Hon Deluxe Fabric Upholstered Stacking Chairs,...</td>\n",
              "      <td>731.9400</td>\n",
              "      <td>3</td>\n",
              "      <td>0.00</td>\n",
              "      <td>219.5820</td>\n",
              "    </tr>\n",
              "    <tr>\n",
              "      <th>2</th>\n",
              "      <td>3</td>\n",
              "      <td>CA-2019-138688</td>\n",
              "      <td>6/12/2019</td>\n",
              "      <td>6/16/2019</td>\n",
              "      <td>Second Class</td>\n",
              "      <td>DV-13045</td>\n",
              "      <td>Darrin Van Huff</td>\n",
              "      <td>Corporate</td>\n",
              "      <td>United States</td>\n",
              "      <td>Los Angeles</td>\n",
              "      <td>...</td>\n",
              "      <td>90036.0</td>\n",
              "      <td>West</td>\n",
              "      <td>OFF-LA-10000240</td>\n",
              "      <td>Office Supplies</td>\n",
              "      <td>Labels</td>\n",
              "      <td>Self-Adhesive Address Labels for Typewriters b...</td>\n",
              "      <td>14.6200</td>\n",
              "      <td>2</td>\n",
              "      <td>0.00</td>\n",
              "      <td>6.8714</td>\n",
              "    </tr>\n",
              "    <tr>\n",
              "      <th>3</th>\n",
              "      <td>4</td>\n",
              "      <td>US-2018-108966</td>\n",
              "      <td>10/11/2018</td>\n",
              "      <td>10/18/2018</td>\n",
              "      <td>Standard Class</td>\n",
              "      <td>SO-20335</td>\n",
              "      <td>Sean O'Donnell</td>\n",
              "      <td>Consumer</td>\n",
              "      <td>United States</td>\n",
              "      <td>Fort Lauderdale</td>\n",
              "      <td>...</td>\n",
              "      <td>33311.0</td>\n",
              "      <td>South</td>\n",
              "      <td>FUR-TA-10000577</td>\n",
              "      <td>Furniture</td>\n",
              "      <td>Tables</td>\n",
              "      <td>Bretford CR4500 Series Slim Rectangular Table</td>\n",
              "      <td>957.5775</td>\n",
              "      <td>5</td>\n",
              "      <td>0.45</td>\n",
              "      <td>-383.0310</td>\n",
              "    </tr>\n",
              "    <tr>\n",
              "      <th>4</th>\n",
              "      <td>5</td>\n",
              "      <td>US-2018-108966</td>\n",
              "      <td>10/11/2018</td>\n",
              "      <td>10/18/2018</td>\n",
              "      <td>Standard Class</td>\n",
              "      <td>SO-20335</td>\n",
              "      <td>Sean O'Donnell</td>\n",
              "      <td>Consumer</td>\n",
              "      <td>United States</td>\n",
              "      <td>Fort Lauderdale</td>\n",
              "      <td>...</td>\n",
              "      <td>33311.0</td>\n",
              "      <td>South</td>\n",
              "      <td>OFF-ST-10000760</td>\n",
              "      <td>Office Supplies</td>\n",
              "      <td>Storage</td>\n",
              "      <td>Eldon Fold 'N Roll Cart System</td>\n",
              "      <td>22.3680</td>\n",
              "      <td>2</td>\n",
              "      <td>0.20</td>\n",
              "      <td>2.5164</td>\n",
              "    </tr>\n",
              "  </tbody>\n",
              "</table>\n",
              "<p>5 rows × 21 columns</p>\n",
              "</div>"
            ]
          },
          "metadata": {},
          "output_type": "display_data"
        }
      ],
      "metadata": {
        "datalore": {
          "node_id": "EPqI5ZCTsI4ZXCNpZw0eRF",
          "type": "CODE",
          "hide_input_from_viewers": false,
          "hide_output_from_viewers": false,
          "report_properties": {
            "rowId": "Teanb3VDYWPo7OTHBtb1tE",
            "relativeY": 0
          }
        },
        "id": "0sfSVSUlvgA7",
        "outputId": "45eac5b4-badd-4c83-d855-70d30c894581"
      }
    },
    {
      "cell_type": "code",
      "source": [
        "# shape of dataframe\n",
        "df.shape"
      ],
      "execution_count": null,
      "outputs": [
        {
          "data": {
            "text/plain": [
              "(9994, 21)"
            ]
          },
          "metadata": {},
          "output_type": "display_data"
        }
      ],
      "metadata": {
        "datalore": {
          "node_id": "7hO5zKSOz6G4LvJ5FusOGG",
          "type": "CODE",
          "hide_input_from_viewers": false,
          "hide_output_from_viewers": false,
          "report_properties": {
            "rowId": "5dH2SVAjdT3Nnum2mn8f3r",
            "relativeY": 0
          }
        },
        "id": "UIpMZ3GzvgA-",
        "outputId": "fd6bbb3f-0866-474f-87ba-58694a735bf7"
      }
    },
    {
      "cell_type": "code",
      "source": [
        "# see data frame information using .info()\n",
        "df.info()"
      ],
      "execution_count": null,
      "outputs": [
        {
          "name": "stdout",
          "text": [
            "<class 'pandas.core.frame.DataFrame'>\n",
            "RangeIndex: 9994 entries, 0 to 9993\n",
            "Data columns (total 21 columns):\n",
            " #   Column          Non-Null Count  Dtype  \n",
            "---  ------          --------------  -----  \n",
            " 0   Row ID          9994 non-null   int64  \n",
            " 1   Order ID        9994 non-null   object \n",
            " 2   Order Date      9994 non-null   object \n",
            " 3   Ship Date       9994 non-null   object \n",
            " 4   Ship Mode       9994 non-null   object \n",
            " 5   Customer ID     9994 non-null   object \n",
            " 6   Customer Name   9994 non-null   object \n",
            " 7   Segment         9994 non-null   object \n",
            " 8   Country/Region  9994 non-null   object \n",
            " 9   City            9994 non-null   object \n",
            " 10  State           9994 non-null   object \n",
            " 11  Postal Code     9983 non-null   float64\n",
            " 12  Region          9994 non-null   object \n",
            " 13  Product ID      9994 non-null   object \n",
            " 14  Category        9994 non-null   object \n",
            " 15  Sub-Category    9994 non-null   object \n",
            " 16  Product Name    9994 non-null   object \n",
            " 17  Sales           9994 non-null   float64\n",
            " 18  Quantity        9994 non-null   int64  \n",
            " 19  Discount        9994 non-null   float64\n",
            " 20  Profit          9994 non-null   float64\n",
            "dtypes: float64(4), int64(2), object(15)\n",
            "memory usage: 1.6+ MB\n"
          ],
          "output_type": "stream"
        }
      ],
      "metadata": {
        "datalore": {
          "node_id": "nZeIWBOKRuo0682g0MRpoV",
          "type": "CODE",
          "hide_input_from_viewers": false,
          "hide_output_from_viewers": false,
          "report_properties": {
            "rowId": "75Ri8iboDNectQ9k6eTTxn",
            "relativeY": 0
          }
        },
        "id": "EW1PtRubvgA_",
        "outputId": "2a0a0f06-3fda-4aa1-d7b0-4570e1d49d5a"
      }
    },
    {
      "cell_type": "markdown",
      "source": [
        "We can use `pd.to_datetime()` function to convert columns 'Order Date' and 'Ship Date' to datetime."
      ],
      "metadata": {
        "datalore": {
          "node_id": "qbupItKkZP7UJe42LSlEZU",
          "type": "MD",
          "hide_input_from_viewers": false,
          "hide_output_from_viewers": false,
          "report_properties": {
            "rowId": "lFbI1TST9Ac5YZtf4E2Xi2",
            "relativeY": 0
          }
        },
        "id": "8pUTQlhEvgBB"
      }
    },
    {
      "cell_type": "code",
      "source": [
        "# example of pd.to_datetime() function\n",
        "pd.to_datetime(df['Order Date'].head(), format='%m/%d/%Y')"
      ],
      "execution_count": null,
      "outputs": [
        {
          "data": {
            "text/html": [
              "<pre>0   2019-11-08\n",
              "1   2019-11-08\n",
              "2   2019-06-12\n",
              "3   2018-10-11\n",
              "4   2018-10-11\n",
              "Name: Order Date, dtype: datetime64[ns]</pre>"
            ]
          },
          "metadata": {},
          "output_type": "display_data"
        }
      ],
      "metadata": {
        "datalore": {
          "node_id": "Jeh6MzCZBWNc8LxD85ZPRq",
          "type": "CODE",
          "hide_input_from_viewers": false,
          "hide_output_from_viewers": false,
          "report_properties": {
            "rowId": "WfpyxyTmNIUa6pMJgs7jVU",
            "relativeY": 0
          }
        },
        "id": "I8uM89tRvgBC",
        "outputId": "b988e1ea-4be0-4399-eb83-bd2cf80f0df6"
      }
    },
    {
      "cell_type": "code",
      "source": [
        "# convert order date and ship date to datetime in the original dataframe\n",
        "\n",
        "df['Order Date'] =  pd.to_datetime(df['Order Date'], format='%m/%d/%Y')\n",
        "df['Ship Date'] =  pd.to_datetime(df['Ship Date'], format='%m/%d/%Y')\n",
        "print(df.dtypes[['Order Date', 'Ship Date']])\n",
        "df.head(5)"
      ],
      "execution_count": null,
      "outputs": [
        {
          "name": "stdout",
          "text": [
            "Order Date    datetime64[ns]\n",
            "Ship Date     datetime64[ns]\n",
            "dtype: object\n"
          ],
          "output_type": "stream"
        },
        {
          "data": {
            "text/html": [
              "<div>\n",
              "<style scoped>\n",
              "    .dataframe tbody tr th:only-of-type {\n",
              "        vertical-align: middle;\n",
              "    }\n",
              "\n",
              "    .dataframe tbody tr th {\n",
              "        vertical-align: top;\n",
              "    }\n",
              "\n",
              "    .dataframe thead th {\n",
              "        text-align: right;\n",
              "    }\n",
              "</style>\n",
              "<table border=\"1\" class=\"dataframe\">\n",
              "  <thead>\n",
              "    <tr style=\"text-align: right;\">\n",
              "      <th></th>\n",
              "      <th>Row ID</th>\n",
              "      <th>Order ID</th>\n",
              "      <th>Order Date</th>\n",
              "      <th>Ship Date</th>\n",
              "      <th>Ship Mode</th>\n",
              "      <th>Customer ID</th>\n",
              "      <th>Customer Name</th>\n",
              "      <th>Segment</th>\n",
              "      <th>Country/Region</th>\n",
              "      <th>City</th>\n",
              "      <th>...</th>\n",
              "      <th>Postal Code</th>\n",
              "      <th>Region</th>\n",
              "      <th>Product ID</th>\n",
              "      <th>Category</th>\n",
              "      <th>Sub-Category</th>\n",
              "      <th>Product Name</th>\n",
              "      <th>Sales</th>\n",
              "      <th>Quantity</th>\n",
              "      <th>Discount</th>\n",
              "      <th>Profit</th>\n",
              "    </tr>\n",
              "  </thead>\n",
              "  <tbody>\n",
              "    <tr>\n",
              "      <th>0</th>\n",
              "      <td>1</td>\n",
              "      <td>CA-2019-152156</td>\n",
              "      <td>2019-11-08</td>\n",
              "      <td>2019-11-11</td>\n",
              "      <td>Second Class</td>\n",
              "      <td>CG-12520</td>\n",
              "      <td>Claire Gute</td>\n",
              "      <td>Consumer</td>\n",
              "      <td>United States</td>\n",
              "      <td>Henderson</td>\n",
              "      <td>...</td>\n",
              "      <td>42420.0</td>\n",
              "      <td>South</td>\n",
              "      <td>FUR-BO-10001798</td>\n",
              "      <td>Furniture</td>\n",
              "      <td>Bookcases</td>\n",
              "      <td>Bush Somerset Collection Bookcase</td>\n",
              "      <td>261.9600</td>\n",
              "      <td>2</td>\n",
              "      <td>0.00</td>\n",
              "      <td>41.9136</td>\n",
              "    </tr>\n",
              "    <tr>\n",
              "      <th>1</th>\n",
              "      <td>2</td>\n",
              "      <td>CA-2019-152156</td>\n",
              "      <td>2019-11-08</td>\n",
              "      <td>2019-11-11</td>\n",
              "      <td>Second Class</td>\n",
              "      <td>CG-12520</td>\n",
              "      <td>Claire Gute</td>\n",
              "      <td>Consumer</td>\n",
              "      <td>United States</td>\n",
              "      <td>Henderson</td>\n",
              "      <td>...</td>\n",
              "      <td>42420.0</td>\n",
              "      <td>South</td>\n",
              "      <td>FUR-CH-10000454</td>\n",
              "      <td>Furniture</td>\n",
              "      <td>Chairs</td>\n",
              "      <td>Hon Deluxe Fabric Upholstered Stacking Chairs,...</td>\n",
              "      <td>731.9400</td>\n",
              "      <td>3</td>\n",
              "      <td>0.00</td>\n",
              "      <td>219.5820</td>\n",
              "    </tr>\n",
              "    <tr>\n",
              "      <th>2</th>\n",
              "      <td>3</td>\n",
              "      <td>CA-2019-138688</td>\n",
              "      <td>2019-06-12</td>\n",
              "      <td>2019-06-16</td>\n",
              "      <td>Second Class</td>\n",
              "      <td>DV-13045</td>\n",
              "      <td>Darrin Van Huff</td>\n",
              "      <td>Corporate</td>\n",
              "      <td>United States</td>\n",
              "      <td>Los Angeles</td>\n",
              "      <td>...</td>\n",
              "      <td>90036.0</td>\n",
              "      <td>West</td>\n",
              "      <td>OFF-LA-10000240</td>\n",
              "      <td>Office Supplies</td>\n",
              "      <td>Labels</td>\n",
              "      <td>Self-Adhesive Address Labels for Typewriters b...</td>\n",
              "      <td>14.6200</td>\n",
              "      <td>2</td>\n",
              "      <td>0.00</td>\n",
              "      <td>6.8714</td>\n",
              "    </tr>\n",
              "    <tr>\n",
              "      <th>3</th>\n",
              "      <td>4</td>\n",
              "      <td>US-2018-108966</td>\n",
              "      <td>2018-10-11</td>\n",
              "      <td>2018-10-18</td>\n",
              "      <td>Standard Class</td>\n",
              "      <td>SO-20335</td>\n",
              "      <td>Sean O'Donnell</td>\n",
              "      <td>Consumer</td>\n",
              "      <td>United States</td>\n",
              "      <td>Fort Lauderdale</td>\n",
              "      <td>...</td>\n",
              "      <td>33311.0</td>\n",
              "      <td>South</td>\n",
              "      <td>FUR-TA-10000577</td>\n",
              "      <td>Furniture</td>\n",
              "      <td>Tables</td>\n",
              "      <td>Bretford CR4500 Series Slim Rectangular Table</td>\n",
              "      <td>957.5775</td>\n",
              "      <td>5</td>\n",
              "      <td>0.45</td>\n",
              "      <td>-383.0310</td>\n",
              "    </tr>\n",
              "    <tr>\n",
              "      <th>4</th>\n",
              "      <td>5</td>\n",
              "      <td>US-2018-108966</td>\n",
              "      <td>2018-10-11</td>\n",
              "      <td>2018-10-18</td>\n",
              "      <td>Standard Class</td>\n",
              "      <td>SO-20335</td>\n",
              "      <td>Sean O'Donnell</td>\n",
              "      <td>Consumer</td>\n",
              "      <td>United States</td>\n",
              "      <td>Fort Lauderdale</td>\n",
              "      <td>...</td>\n",
              "      <td>33311.0</td>\n",
              "      <td>South</td>\n",
              "      <td>OFF-ST-10000760</td>\n",
              "      <td>Office Supplies</td>\n",
              "      <td>Storage</td>\n",
              "      <td>Eldon Fold 'N Roll Cart System</td>\n",
              "      <td>22.3680</td>\n",
              "      <td>2</td>\n",
              "      <td>0.20</td>\n",
              "      <td>2.5164</td>\n",
              "    </tr>\n",
              "  </tbody>\n",
              "</table>\n",
              "<p>5 rows × 21 columns</p>\n",
              "</div>"
            ]
          },
          "metadata": {},
          "output_type": "display_data"
        }
      ],
      "metadata": {
        "datalore": {
          "node_id": "SdZE6F0SnriPox0J2cq4Fb",
          "type": "CODE",
          "hide_input_from_viewers": false,
          "hide_output_from_viewers": false,
          "report_properties": {
            "rowId": "hmf07Z7P8zbjdjYuGZ12cX",
            "relativeY": 0
          }
        },
        "id": "KK-2EyLJvgBD",
        "outputId": "134bdcbe-90d8-44a3-c371-f665627924e5"
      }
    },
    {
      "cell_type": "code",
      "source": [
        "# count nan in postal code column\n",
        "df['Postal Code'].isna().sum()"
      ],
      "execution_count": null,
      "outputs": [
        {
          "data": {
            "text/plain": [
              "11"
            ]
          },
          "metadata": {},
          "output_type": "display_data"
        }
      ],
      "metadata": {
        "datalore": {
          "node_id": "kBXxZ389npKHec7MY7s9qJ",
          "type": "CODE",
          "hide_input_from_viewers": false,
          "hide_output_from_viewers": false,
          "report_properties": {
            "rowId": "40Ls6v2lvFmiHu0G62rnm4",
            "relativeY": 0
          }
        },
        "id": "FjLSJIGQvgBE",
        "outputId": "2618966b-3fd5-4463-b5e4-76de13934c3e"
      }
    },
    {
      "cell_type": "code",
      "source": [
        "# filter rows with missing values\n",
        "df[df.isna().any(axis = 1)]"
      ],
      "execution_count": null,
      "outputs": [
        {
          "data": {
            "text/html": [
              "<div>\n",
              "<style scoped>\n",
              "    .dataframe tbody tr th:only-of-type {\n",
              "        vertical-align: middle;\n",
              "    }\n",
              "\n",
              "    .dataframe tbody tr th {\n",
              "        vertical-align: top;\n",
              "    }\n",
              "\n",
              "    .dataframe thead th {\n",
              "        text-align: right;\n",
              "    }\n",
              "</style>\n",
              "<table border=\"1\" class=\"dataframe\">\n",
              "  <thead>\n",
              "    <tr style=\"text-align: right;\">\n",
              "      <th></th>\n",
              "      <th>Row ID</th>\n",
              "      <th>Order ID</th>\n",
              "      <th>Order Date</th>\n",
              "      <th>Ship Date</th>\n",
              "      <th>Ship Mode</th>\n",
              "      <th>Customer ID</th>\n",
              "      <th>Customer Name</th>\n",
              "      <th>Segment</th>\n",
              "      <th>Country/Region</th>\n",
              "      <th>City</th>\n",
              "      <th>...</th>\n",
              "      <th>Postal Code</th>\n",
              "      <th>Region</th>\n",
              "      <th>Product ID</th>\n",
              "      <th>Category</th>\n",
              "      <th>Sub-Category</th>\n",
              "      <th>Product Name</th>\n",
              "      <th>Sales</th>\n",
              "      <th>Quantity</th>\n",
              "      <th>Discount</th>\n",
              "      <th>Profit</th>\n",
              "    </tr>\n",
              "  </thead>\n",
              "  <tbody>\n",
              "    <tr>\n",
              "      <th>2234</th>\n",
              "      <td>2235</td>\n",
              "      <td>CA-2020-104066</td>\n",
              "      <td>2020-12-05</td>\n",
              "      <td>2020-12-10</td>\n",
              "      <td>Standard Class</td>\n",
              "      <td>QJ-19255</td>\n",
              "      <td>Quincy Jones</td>\n",
              "      <td>Corporate</td>\n",
              "      <td>United States</td>\n",
              "      <td>Burlington</td>\n",
              "      <td>...</td>\n",
              "      <td>NaN</td>\n",
              "      <td>East</td>\n",
              "      <td>TEC-AC-10001013</td>\n",
              "      <td>Technology</td>\n",
              "      <td>Accessories</td>\n",
              "      <td>Logitech ClearChat Comfort/USB Headset H390</td>\n",
              "      <td>205.03</td>\n",
              "      <td>7</td>\n",
              "      <td>0.0</td>\n",
              "      <td>67.6599</td>\n",
              "    </tr>\n",
              "    <tr>\n",
              "      <th>5274</th>\n",
              "      <td>5275</td>\n",
              "      <td>CA-2018-162887</td>\n",
              "      <td>2018-11-07</td>\n",
              "      <td>2018-11-09</td>\n",
              "      <td>Second Class</td>\n",
              "      <td>SV-20785</td>\n",
              "      <td>Stewart Visinsky</td>\n",
              "      <td>Consumer</td>\n",
              "      <td>United States</td>\n",
              "      <td>Burlington</td>\n",
              "      <td>...</td>\n",
              "      <td>NaN</td>\n",
              "      <td>East</td>\n",
              "      <td>FUR-CH-10000595</td>\n",
              "      <td>Furniture</td>\n",
              "      <td>Chairs</td>\n",
              "      <td>Safco Contoured Stacking Chairs</td>\n",
              "      <td>715.20</td>\n",
              "      <td>3</td>\n",
              "      <td>0.0</td>\n",
              "      <td>178.8000</td>\n",
              "    </tr>\n",
              "    <tr>\n",
              "      <th>8798</th>\n",
              "      <td>8799</td>\n",
              "      <td>US-2019-150140</td>\n",
              "      <td>2019-04-06</td>\n",
              "      <td>2019-04-10</td>\n",
              "      <td>Standard Class</td>\n",
              "      <td>VM-21685</td>\n",
              "      <td>Valerie Mitchum</td>\n",
              "      <td>Home Office</td>\n",
              "      <td>United States</td>\n",
              "      <td>Burlington</td>\n",
              "      <td>...</td>\n",
              "      <td>NaN</td>\n",
              "      <td>East</td>\n",
              "      <td>TEC-PH-10002555</td>\n",
              "      <td>Technology</td>\n",
              "      <td>Phones</td>\n",
              "      <td>Nortel Meridian M5316 Digital phone</td>\n",
              "      <td>1294.75</td>\n",
              "      <td>5</td>\n",
              "      <td>0.0</td>\n",
              "      <td>336.6350</td>\n",
              "    </tr>\n",
              "    <tr>\n",
              "      <th>9146</th>\n",
              "      <td>9147</td>\n",
              "      <td>US-2019-165505</td>\n",
              "      <td>2019-01-23</td>\n",
              "      <td>2019-01-27</td>\n",
              "      <td>Standard Class</td>\n",
              "      <td>CB-12535</td>\n",
              "      <td>Claudia Bergmann</td>\n",
              "      <td>Corporate</td>\n",
              "      <td>United States</td>\n",
              "      <td>Burlington</td>\n",
              "      <td>...</td>\n",
              "      <td>NaN</td>\n",
              "      <td>East</td>\n",
              "      <td>TEC-AC-10002926</td>\n",
              "      <td>Technology</td>\n",
              "      <td>Accessories</td>\n",
              "      <td>Logitech Wireless Marathon Mouse M705</td>\n",
              "      <td>99.98</td>\n",
              "      <td>2</td>\n",
              "      <td>0.0</td>\n",
              "      <td>42.9914</td>\n",
              "    </tr>\n",
              "    <tr>\n",
              "      <th>9147</th>\n",
              "      <td>9148</td>\n",
              "      <td>US-2019-165505</td>\n",
              "      <td>2019-01-23</td>\n",
              "      <td>2019-01-27</td>\n",
              "      <td>Standard Class</td>\n",
              "      <td>CB-12535</td>\n",
              "      <td>Claudia Bergmann</td>\n",
              "      <td>Corporate</td>\n",
              "      <td>United States</td>\n",
              "      <td>Burlington</td>\n",
              "      <td>...</td>\n",
              "      <td>NaN</td>\n",
              "      <td>East</td>\n",
              "      <td>OFF-AR-10003477</td>\n",
              "      <td>Office Supplies</td>\n",
              "      <td>Art</td>\n",
              "      <td>4009 Highlighters</td>\n",
              "      <td>8.04</td>\n",
              "      <td>6</td>\n",
              "      <td>0.0</td>\n",
              "      <td>2.7336</td>\n",
              "    </tr>\n",
              "    <tr>\n",
              "      <th>9148</th>\n",
              "      <td>9149</td>\n",
              "      <td>US-2019-165505</td>\n",
              "      <td>2019-01-23</td>\n",
              "      <td>2019-01-27</td>\n",
              "      <td>Standard Class</td>\n",
              "      <td>CB-12535</td>\n",
              "      <td>Claudia Bergmann</td>\n",
              "      <td>Corporate</td>\n",
              "      <td>United States</td>\n",
              "      <td>Burlington</td>\n",
              "      <td>...</td>\n",
              "      <td>NaN</td>\n",
              "      <td>East</td>\n",
              "      <td>OFF-ST-10001526</td>\n",
              "      <td>Office Supplies</td>\n",
              "      <td>Storage</td>\n",
              "      <td>Iceberg Mobile Mega Data/Printer Cart</td>\n",
              "      <td>1564.29</td>\n",
              "      <td>13</td>\n",
              "      <td>0.0</td>\n",
              "      <td>406.7154</td>\n",
              "    </tr>\n",
              "    <tr>\n",
              "      <th>9386</th>\n",
              "      <td>9387</td>\n",
              "      <td>US-2020-127292</td>\n",
              "      <td>2020-01-19</td>\n",
              "      <td>2020-01-23</td>\n",
              "      <td>Standard Class</td>\n",
              "      <td>RM-19375</td>\n",
              "      <td>Raymond Messe</td>\n",
              "      <td>Consumer</td>\n",
              "      <td>United States</td>\n",
              "      <td>Burlington</td>\n",
              "      <td>...</td>\n",
              "      <td>NaN</td>\n",
              "      <td>East</td>\n",
              "      <td>OFF-PA-10000157</td>\n",
              "      <td>Office Supplies</td>\n",
              "      <td>Paper</td>\n",
              "      <td>Xerox 191</td>\n",
              "      <td>79.92</td>\n",
              "      <td>4</td>\n",
              "      <td>0.0</td>\n",
              "      <td>37.5624</td>\n",
              "    </tr>\n",
              "    <tr>\n",
              "      <th>9387</th>\n",
              "      <td>9388</td>\n",
              "      <td>US-2020-127292</td>\n",
              "      <td>2020-01-19</td>\n",
              "      <td>2020-01-23</td>\n",
              "      <td>Standard Class</td>\n",
              "      <td>RM-19375</td>\n",
              "      <td>Raymond Messe</td>\n",
              "      <td>Consumer</td>\n",
              "      <td>United States</td>\n",
              "      <td>Burlington</td>\n",
              "      <td>...</td>\n",
              "      <td>NaN</td>\n",
              "      <td>East</td>\n",
              "      <td>OFF-PA-10001970</td>\n",
              "      <td>Office Supplies</td>\n",
              "      <td>Paper</td>\n",
              "      <td>Xerox 1881</td>\n",
              "      <td>12.28</td>\n",
              "      <td>1</td>\n",
              "      <td>0.0</td>\n",
              "      <td>5.7716</td>\n",
              "    </tr>\n",
              "    <tr>\n",
              "      <th>9388</th>\n",
              "      <td>9389</td>\n",
              "      <td>US-2020-127292</td>\n",
              "      <td>2020-01-19</td>\n",
              "      <td>2020-01-23</td>\n",
              "      <td>Standard Class</td>\n",
              "      <td>RM-19375</td>\n",
              "      <td>Raymond Messe</td>\n",
              "      <td>Consumer</td>\n",
              "      <td>United States</td>\n",
              "      <td>Burlington</td>\n",
              "      <td>...</td>\n",
              "      <td>NaN</td>\n",
              "      <td>East</td>\n",
              "      <td>OFF-AP-10000828</td>\n",
              "      <td>Office Supplies</td>\n",
              "      <td>Appliances</td>\n",
              "      <td>Avanti 4.4 Cu. Ft. Refrigerator</td>\n",
              "      <td>542.94</td>\n",
              "      <td>3</td>\n",
              "      <td>0.0</td>\n",
              "      <td>152.0232</td>\n",
              "    </tr>\n",
              "    <tr>\n",
              "      <th>9389</th>\n",
              "      <td>9390</td>\n",
              "      <td>US-2020-127292</td>\n",
              "      <td>2020-01-19</td>\n",
              "      <td>2020-01-23</td>\n",
              "      <td>Standard Class</td>\n",
              "      <td>RM-19375</td>\n",
              "      <td>Raymond Messe</td>\n",
              "      <td>Consumer</td>\n",
              "      <td>United States</td>\n",
              "      <td>Burlington</td>\n",
              "      <td>...</td>\n",
              "      <td>NaN</td>\n",
              "      <td>East</td>\n",
              "      <td>OFF-EN-10001509</td>\n",
              "      <td>Office Supplies</td>\n",
              "      <td>Envelopes</td>\n",
              "      <td>Poly String Tie Envelopes</td>\n",
              "      <td>2.04</td>\n",
              "      <td>1</td>\n",
              "      <td>0.0</td>\n",
              "      <td>0.9588</td>\n",
              "    </tr>\n",
              "    <tr>\n",
              "      <th>9741</th>\n",
              "      <td>9742</td>\n",
              "      <td>CA-2018-117086</td>\n",
              "      <td>2018-11-08</td>\n",
              "      <td>2018-11-12</td>\n",
              "      <td>Standard Class</td>\n",
              "      <td>QJ-19255</td>\n",
              "      <td>Quincy Jones</td>\n",
              "      <td>Corporate</td>\n",
              "      <td>United States</td>\n",
              "      <td>Burlington</td>\n",
              "      <td>...</td>\n",
              "      <td>NaN</td>\n",
              "      <td>East</td>\n",
              "      <td>FUR-BO-10004834</td>\n",
              "      <td>Furniture</td>\n",
              "      <td>Bookcases</td>\n",
              "      <td>Riverside Palais Royal Lawyers Bookcase, Royal...</td>\n",
              "      <td>4404.90</td>\n",
              "      <td>5</td>\n",
              "      <td>0.0</td>\n",
              "      <td>1013.1270</td>\n",
              "    </tr>\n",
              "  </tbody>\n",
              "</table>\n",
              "<p>11 rows × 21 columns</p>\n",
              "</div>"
            ]
          },
          "metadata": {},
          "output_type": "display_data"
        }
      ],
      "metadata": {
        "datalore": {
          "node_id": "uwxIDPuX842MAMchZMdMUM",
          "type": "CODE",
          "hide_input_from_viewers": false,
          "hide_output_from_viewers": false,
          "report_properties": {
            "rowId": "zyggATfZANhG8pHY3Lf1Fs",
            "relativeY": 0
          }
        },
        "id": "aKr49DcCvgBF",
        "outputId": "2eecb34b-8b65-491a-b73e-e53d538defed"
      }
    },
    {
      "cell_type": "code",
      "source": [
        "# Explore this dataset on your owns, ask your own questions\n",
        "'''I want to know Relationship between Sales & Profit by Quarter'''"
      ],
      "execution_count": null,
      "outputs": [
        {
          "data": {
            "text/plain": [
              "'I want to know Relationship between Sales & Profit by Quarter'"
            ]
          },
          "metadata": {},
          "output_type": "display_data"
        }
      ],
      "metadata": {
        "datalore": {
          "node_id": "d5tA7loM1PDSyYts2WHWhp",
          "type": "CODE",
          "hide_input_from_viewers": false,
          "hide_output_from_viewers": false,
          "report_properties": {
            "rowId": "YbjkHkavxPQFM6A4z34bPQ",
            "relativeY": 0
          }
        },
        "id": "-0XqUOE7vgBG",
        "outputId": "aee18dfa-911f-49a8-de3d-6eca1525a74c"
      }
    },
    {
      "cell_type": "markdown",
      "source": [
        "## Data Analysis Part\n",
        "\n",
        "Answer 10 below questions to get credit from this course. Write `pandas` code to find answers."
      ],
      "metadata": {
        "datalore": {
          "node_id": "jd3nZzbdc7RNYJZR7ohfF4",
          "type": "MD",
          "hide_input_from_viewers": false,
          "hide_output_from_viewers": false,
          "report_properties": {
            "rowId": "bXR0lPKwIPpc8YE7NIlzJO",
            "relativeY": 0
          }
        },
        "id": "p1SQJaVdvgBH"
      }
    },
    {
      "cell_type": "code",
      "source": [
        "# how many columns, rows in this dataset\n",
        "df.shape\n",
        "print(\"Number of rows:\", df.shape[0])\n",
        "print(\"Number of columns:\", df.shape[1])"
      ],
      "execution_count": null,
      "outputs": [
        {
          "name": "stdout",
          "text": [
            "Number of rows: 9994\n",
            "Number of columns: 21\n"
          ],
          "output_type": "stream"
        }
      ],
      "metadata": {
        "datalore": {
          "node_id": "9S6S5uxlq4BzVQ07ZhQSe6",
          "type": "CODE",
          "hide_input_from_viewers": false,
          "hide_output_from_viewers": false,
          "report_properties": {
            "rowId": "6vN85p7G9iwoGnMjxJMc3y",
            "relativeY": 0
          }
        },
        "id": "YB56hX4EvgBI",
        "outputId": "b8642b78-2078-47ab-d19f-af2febc14d6c"
      }
    },
    {
      "cell_type": "code",
      "source": [
        "# is there any missing values?, if there is, which colunm? how many nan values?\n",
        "missing_values = df.isna().sum()\n",
        "print(\"Missing values in each column:\")\n",
        "print(missing_values)"
      ],
      "execution_count": null,
      "outputs": [
        {
          "name": "stdout",
          "text": [
            "Missing values in each column:\n",
            "Row ID             0\n",
            "Order ID           0\n",
            "Order Date         0\n",
            "Ship Date          0\n",
            "Ship Mode          0\n",
            "Customer ID        0\n",
            "Customer Name      0\n",
            "Segment            0\n",
            "Country/Region     0\n",
            "City               0\n",
            "State              0\n",
            "Postal Code       11\n",
            "Region             0\n",
            "Product ID         0\n",
            "Category           0\n",
            "Sub-Category       0\n",
            "Product Name       0\n",
            "Sales              0\n",
            "Quantity           0\n",
            "Discount           0\n",
            "Profit             0\n",
            "dtype: int64\n"
          ],
          "output_type": "stream"
        }
      ],
      "metadata": {
        "datalore": {
          "node_id": "wrdMMSjBhS6UGiWLq1SvMd",
          "type": "CODE",
          "hide_input_from_viewers": false,
          "hide_output_from_viewers": false,
          "report_properties": {
            "rowId": "66H2rUSnSWYg7MbX5tKkQL",
            "relativeY": 0
          }
        },
        "id": "-7ES9U5kvgBJ",
        "outputId": "35c4166a-b58a-422b-a84b-e06c57d394a8"
      }
    },
    {
      "cell_type": "code",
      "source": [
        "# find `California` data, filter it and export csv file\n",
        "df_California = df.query('State == \"California\"')\n",
        "df_California.to_csv('California.csv')"
      ],
      "execution_count": null,
      "outputs": [],
      "metadata": {
        "datalore": {
          "node_id": "u0GBWEhR8sjbSK1I9lZ7GM",
          "type": "CODE",
          "hide_input_from_viewers": false,
          "hide_output_from_viewers": false,
          "report_properties": {
            "rowId": "mlrNzM5Egcp7EeEHOoYl10",
            "relativeY": 0
          }
        },
        "id": "4FKLZioZvgBK"
      }
    },
    {
      "cell_type": "code",
      "source": [
        "# find all order data in `California` and `Texas` in 2017 (look at Order Date), write as csv file\n",
        "df_2017 = df[df['Order Date'].dt.year == 2017]\n",
        "#df_Texas = df[df['State'] == 'Texas']\n",
        "df_California_Texas_2017 = df_2017.query('State == \"California\" | State == \"Texas\"')\n",
        "df_California_Texas_2017.to_csv('California_Texas_2017.csv')"
      ],
      "execution_count": null,
      "outputs": [],
      "metadata": {
        "datalore": {
          "node_id": "PQ4yra4ok3hGG1Kh1mp8Y9",
          "type": "CODE",
          "hide_input_from_viewers": false,
          "hide_output_from_viewers": false,
          "report_properties": {
            "rowId": "Dnm3ar5WzHOlS6QoRHgGk0",
            "relativeY": 0
          }
        },
        "id": "Ha67raKNvgBK"
      }
    },
    {
      "cell_type": "code",
      "source": [
        "# how much total sales, average sales, and standard deviation of sales your company make in 2017\n",
        "sales_2017 = df_2017['Sales'].agg(['sum', 'mean', 'std'])\n",
        "print(\"Statistics for sales in 2017:\")\n",
        "print(\"Total Sales:\", sales_2017['sum'])\n",
        "print(\"Average Sales:\", sales_2017['mean'])\n",
        "print(\"Standard Deviation of Sales:\", sales_2017['std'])"
      ],
      "execution_count": null,
      "outputs": [
        {
          "name": "stdout",
          "text": [
            "Statistics for sales in 2017:\n",
            "Total Sales: 484247.4981\n",
            "Average Sales: 242.97415860511794\n",
            "Standard Deviation of Sales: 754.0533572593683\n"
          ],
          "output_type": "stream"
        }
      ],
      "metadata": {
        "datalore": {
          "node_id": "VMurP3ekcDNuKpHsHG4wcK",
          "type": "CODE",
          "hide_input_from_viewers": false,
          "hide_output_from_viewers": false,
          "report_properties": {
            "rowId": "3f1RkM3ow1d7zBBWYjG1uh",
            "relativeY": 0
          }
        },
        "id": "muwbXbVEvgBL",
        "outputId": "48f01b76-867f-4a30-9a0c-b688a854bc44"
      }
    },
    {
      "cell_type": "code",
      "source": [
        "# which Segment has the highest profit in 2018\n",
        "# Filter year by 2018\n",
        "df_2018 = df[df['Order Date'].dt.year == 2018]\n",
        "# Find sum profit group by segment\n",
        "segment_profit_2018 = df_2018.groupby('Segment')['Profit'].sum()\n",
        "# Find the segment with the highest profit in the year 2018\n",
        "highest_profit_segment_2018 = segment_profit_2018.idxmax()\n",
        "\n",
        "\n",
        "print(f\"The segment with the highest profit in 2018 is: {highest_profit_segment_2018}\")"
      ],
      "execution_count": null,
      "outputs": [
        {
          "name": "stdout",
          "text": [
            "The segment with the highest profit in 2018 is: Consumer\n"
          ],
          "output_type": "stream"
        }
      ],
      "metadata": {
        "datalore": {
          "node_id": "oDlsfTSJdp1LzPibjShkSF",
          "type": "CODE",
          "hide_input_from_viewers": false,
          "hide_output_from_viewers": false,
          "report_properties": {
            "rowId": "mxbxkbldLXNCZqgA2f0Th3",
            "relativeY": 0
          }
        },
        "id": "YpD4YGvivgBM",
        "outputId": "c6c51bc7-2e41-4f8f-d687-60c9ca6f78a1"
      }
    },
    {
      "cell_type": "code",
      "source": [
        "#which top 5 States have the least total sales between 15 April 2019 - 31 December 2019\n",
        "filter_date_range = df[(df['Order Date'] <= '2019-12-31') & (df['Order Date'] >= '2019-04-15')]\n",
        "state_sales = filter_date_range.groupby('State')['Sales'].sum()\n",
        "top_5_least_sales_states = state_sales.sort_values(ascending = True).head(5)\n",
        "print(\"Top 5 states with the least total sales:\")\n",
        "print(top_5_least_sales_states)"
      ],
      "execution_count": null,
      "outputs": [
        {
          "name": "stdout",
          "text": [
            "Top 5 states with the least total sales:\n",
            "State\n",
            "New Hampshire            49.05\n",
            "New Mexico               64.08\n",
            "District of Columbia    117.07\n",
            "Louisiana               249.80\n",
            "South Carolina          502.48\n",
            "Name: Sales, dtype: float64\n"
          ],
          "output_type": "stream"
        }
      ],
      "metadata": {
        "datalore": {
          "node_id": "3PZYUWQVjgnm0YAcORwacZ",
          "type": "CODE",
          "hide_input_from_viewers": false,
          "hide_output_from_viewers": false,
          "report_properties": {
            "rowId": "U88BjDsJz9iRZKkjD93fAb",
            "relativeY": 0
          }
        },
        "id": "4rhKtVJCvgBM",
        "outputId": "d8873b7c-c4e1-4d08-bf19-142aaf158454"
      }
    },
    {
      "cell_type": "code",
      "source": [
        "# what is the proportion of total sales (%) in West + Central in 2019 e.g. 25%\n",
        "df_2019 = df[df['Order Date'].dt.year == 2019]\n",
        "total_sales_2019 = df_2019['Sales'].sum()\n",
        "\n",
        "central_west_sales_2019 = df_2019[df_2019['Region'].isin(['Central', 'West'])]['Sales'].sum()\n",
        "\n",
        "proportion_central_west_sales = (central_west_sales_2019 / total_sales_2019) * 100\n",
        "print(\"Proportion of total sales (%) in West + Central in 2019:\", proportion_central_west_sales)"
      ],
      "execution_count": null,
      "outputs": [
        {
          "name": "stdout",
          "text": [
            "Proportion of total sales (%) in West + Central in 2019: 54.97479891837763\n"
          ],
          "output_type": "stream"
        }
      ],
      "metadata": {
        "datalore": {
          "node_id": "hsZ7HPPXC6rcq6cIHuIZgq",
          "type": "CODE",
          "hide_input_from_viewers": false,
          "hide_output_from_viewers": false,
          "report_properties": {
            "rowId": "n3Q20SuoON8L7KkjJu3a1q",
            "relativeY": 0
          }
        },
        "id": "BanGcY5CvgBN",
        "outputId": "82e01090-a3e4-4246-b465-5289bcfab5bb"
      }
    },
    {
      "cell_type": "code",
      "source": [
        "# find top 10 popular products in terms of number of orders vs. total sales during 2019-2020\n",
        "df_2019_2020 = df[(df['Order Date'].dt.year == 2019) | (df['Order Date'].dt.year == 2020)]\n",
        "top_product_order = df_2019_2020.groupby('Product Name')['Order ID'].count().sort_values(ascending = False).head(10)\n",
        "top_product_sales = df_2019_2020.groupby('Product Name')['Sales'].sum().sort_values(ascending = False).head(10)\n",
        "\n",
        "print(\"Top 10 popular products in terms of number of orders during 2019-2020:\")\n",
        "print(top_product_order)\n",
        "print(\"\\nTop 10 popular products in terms of total sales during 2019-2020:\")\n",
        "print(top_product_sales)"
      ],
      "execution_count": null,
      "outputs": [
        {
          "name": "stdout",
          "text": [
            "Top 10 popular products in terms of number of orders during 2019-2020:\n",
            "Product Name\n",
            "Easy-staple paper                                  27\n",
            "Staples                                            24\n",
            "Staple envelope                                    22\n",
            "Staples in misc. colors                            13\n",
            "Staple remover                                     12\n",
            "Storex Dura Pro Binders                            12\n",
            "Chromcraft Round Conference Tables                 12\n",
            "Global Wood Trimmed Manager's Task Chair, Khaki    11\n",
            "Avery Non-Stick Binders                            11\n",
            "Staple-based wall hangings                         10\n",
            "Name: Order ID, dtype: int64\n",
            "\n",
            "Top 10 popular products in terms of total sales during 2019-2020:\n",
            "Product Name\n",
            "Canon imageCLASS 2200 Advanced Copier                 61599.824\n",
            "Hewlett Packard LaserJet 3310 Copier                  16079.732\n",
            "3D Systems Cube Printer, 2nd Generation, Magenta      14299.890\n",
            "GBC Ibimaster 500 Manual ProClick Binding System      13621.542\n",
            "GBC DocuBind TL300 Electric Binding System            12737.258\n",
            "GBC DocuBind P400 Electric Binding System             12521.108\n",
            "Samsung Galaxy Mega 6.3                               12263.708\n",
            "HON 5400 Series Task Chairs for Big and Tall          11846.562\n",
            "Martin Yale Chadless Opener Electric Letter Opener    11825.902\n",
            "Global Troy Executive Leather Low-Back Tilter         10169.894\n",
            "Name: Sales, dtype: float64\n"
          ],
          "output_type": "stream"
        }
      ],
      "metadata": {
        "datalore": {
          "node_id": "6AC9aYeqadJFYhtq3hTvuQ",
          "type": "CODE",
          "hide_input_from_viewers": false,
          "hide_output_from_viewers": false,
          "report_properties": {
            "rowId": "97GVdzBZthUlH0EhyR3p2K",
            "relativeY": 0
          }
        },
        "id": "MBtKSCCkvgBO",
        "outputId": "19bef8f6-4cd6-4f2a-db40-68d6193b4f51"
      }
    },
    {
      "cell_type": "code",
      "source": [
        "# find the highest profit in all regions, Bar plot\n",
        "region_sales = df.groupby('Region')['Profit'].sum()\n",
        "region_sales.plot(kind='bar', ylabel = 'Total Profit', title = 'Total Profit by Region');\n",
        "# West is the highest profit in all regions."
      ],
      "execution_count": null,
      "outputs": [
        {
          "data": {
            "image/png": "[encoded data removed]"
          },
          "metadata": {
            "image/png": {}
          },
          "output_type": "display_data"
        }
      ],
      "metadata": {
        "datalore": {
          "node_id": "GC2pWCWicyOoE3TUf2sxCB",
          "type": "CODE",
          "hide_input_from_viewers": false,
          "hide_output_from_viewers": false,
          "report_properties": {
            "rowId": "ZT5I5yOeHe1aEZERXELaFC",
            "relativeY": 0
          }
        },
        "id": "l7cAygtPvgBO",
        "outputId": "6c96f670-145d-4337-ac7a-950b144241bf"
      }
    },
    {
      "cell_type": "code",
      "source": [
        "# What is relationship between sales and profit by quarter date, Line plot\n",
        "quarter_df = df[['Sales', 'Profit']].groupby(df['Order Date'].dt.to_period('Q')).sum()\n",
        "quarter_df.plot(xlabel = 'Quater Date',ylabel = 'Dollars', title = 'Relationship between Sales & Profit by Quarter Date');\n",
        "# Sales depend on the seasonality."
      ],
      "execution_count": null,
      "outputs": [
        {
          "data": {
            "image/png": "[encoded data removed]"
          },
          "metadata": {
            "image/png": {}
          },
          "output_type": "display_data"
        }
      ],
      "metadata": {
        "datalore": {
          "node_id": "5LAaxnSA3cI98nryj43Cg5",
          "type": "CODE",
          "hide_input_from_viewers": false,
          "hide_output_from_viewers": false,
          "report_properties": {
            "rowId": "JKIXkdJgZA5DnWijLnnvfV",
            "relativeY": 0
          }
        },
        "id": "p4Tpdv5yvgBP",
        "outputId": "c8bd2bcb-4a64-43ab-a273-6d6f038e25c2"
      }
    },
    {
      "cell_type": "code",
      "source": [
        "# use np.where() to create new column in dataframe to help you answer your own questions\n",
        "# Why is the 'Relationship between Sales & Profit by Quarter Date' experiencing many gaps between sales and profit?\n",
        "# find the higest Loss\n",
        "import numpy as np\n",
        "df['Profit or Loss']= np.where(df['Profit'] > 0, 'Profit', 'Loss')\n",
        "transaction_loss = df[df['Profit or Loss'] == 'Loss']\n",
        "sorted_loss = transaction_loss.sort_values(\"Profit\", ascending = True)\n",
        "# write as csv file\n",
        "sorted_loss.to_csv('Transaction Loss.csv')\n"
      ],
      "execution_count": null,
      "outputs": [],
      "metadata": {
        "datalore": {
          "node_id": "xnyHxtCZMt8OV5eyd4ZwSW",
          "type": "CODE",
          "hide_input_from_viewers": false,
          "hide_output_from_viewers": false,
          "report_properties": {
            "rowId": "RMl2uVJVeGFxh8anCOqYtm",
            "relativeY": 0
          }
        },
        "id": "N1zS_SURvgBQ"
      }
    }
  ],
  "metadata": {
    "kernelspec": {
      "display_name": "Python",
      "language": "python",
      "name": "python"
    },
    "datalore": {
      "computation_mode": "JUPYTER",
      "package_manager": "pip",
      "base_environment": "default",
      "packages": [],
      "report_row_ids": [
        "65pdkTg7QNprJSVTdmcRl5",
        "OaAJ22RFT11SaNsCKm7i68",
        "Teanb3VDYWPo7OTHBtb1tE",
        "5dH2SVAjdT3Nnum2mn8f3r",
        "75Ri8iboDNectQ9k6eTTxn",
        "lFbI1TST9Ac5YZtf4E2Xi2",
        "WfpyxyTmNIUa6pMJgs7jVU",
        "hmf07Z7P8zbjdjYuGZ12cX",
        "40Ls6v2lvFmiHu0G62rnm4",
        "zyggATfZANhG8pHY3Lf1Fs",
        "YbjkHkavxPQFM6A4z34bPQ",
        "bXR0lPKwIPpc8YE7NIlzJO",
        "6vN85p7G9iwoGnMjxJMc3y",
        "66H2rUSnSWYg7MbX5tKkQL",
        "mlrNzM5Egcp7EeEHOoYl10",
        "Dnm3ar5WzHOlS6QoRHgGk0",
        "3f1RkM3ow1d7zBBWYjG1uh",
        "mxbxkbldLXNCZqgA2f0Th3",
        "U88BjDsJz9iRZKkjD93fAb",
        "n3Q20SuoON8L7KkjJu3a1q",
        "97GVdzBZthUlH0EhyR3p2K",
        "ZT5I5yOeHe1aEZERXELaFC",
        "JKIXkdJgZA5DnWijLnnvfV",
        "RMl2uVJVeGFxh8anCOqYtm"
      ],
      "version": 3
    },
    "colab": {
      "provenance": [],
      "include_colab_link": true
    }
  },
  "nbformat": 4,
  "nbformat_minor": 0
}